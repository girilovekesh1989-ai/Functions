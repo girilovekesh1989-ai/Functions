{
  "nbformat": 4,
  "nbformat_minor": 0,
  "metadata": {
    "colab": {
      "provenance": []
    },
    "kernelspec": {
      "name": "python3",
      "display_name": "Python 3"
    },
    "language_info": {
      "name": "python"
    }
  },
  "cells": [
    {
      "cell_type": "markdown",
      "source": [
        "# **Assignment- FUNCTION**"
      ],
      "metadata": {
        "id": "ZLLsaYG6sY95"
      }
    },
    {
      "cell_type": "markdown",
      "source": [
        "**Theory Questions:**"
      ],
      "metadata": {
        "id": "oese_-wlBB-S"
      }
    },
    {
      "cell_type": "markdown",
      "source": [
        "1. What is the difference between a function and a method in Python?\n",
        "   - In Python, both functions and methods are blocks of reusable code designed to perform specific tasks, but their key difference lies in their association with objects and classes.\n",
        "\n",
        "     FUNCTION :  \n",
        "    - A function is a standalone block of code defined independently of any class or object.\n",
        "    - It is called directly by its name and can take arguments as input , optionally returning a value.\n",
        "    - Functions are used for general-purpose tasks and do not inherently opearte on the internal state of an object.\n",
        "\n",
        "      METHOD:\n",
        "    - A method is a function that is defined within a class and is associated with objects (instance) of the class.\n",
        "    - Methods are called on an object using dot notation (e.g., object.method()).\n",
        "    - They implicitly receive the instance of the class (conventionally named self) as their first argument, allowing them to access and modify the objects attributes and internal state.\n",
        "    - Methods are fundamental to object-oriented\n",
        "\n",
        "    "
      ],
      "metadata": {
        "id": "M2SUxmkysZFl"
      }
    },
    {
      "cell_type": "code",
      "source": [
        "#2. Explain the concept of function arguments and parameters in Python?\n",
        "'''\n",
        "  - In Python, the terms \"parameters\" and \"arguments\" are distinct concepts related to functions:\n",
        "\n",
        "Arguments: These are the actual values or data that are passed to a function when it is called. Arguments are assigned to the corresponding parameters in the function's definition during the function call.\n",
        "'''\n",
        "def greet(name, age): # 'name' and 'age' are parameters\n",
        "        print(f\"Hello, {name}! You are {age} years old.\")\n",
        "\n",
        "greet(\"Alice\", 30) # \"Alice\" and 30 are arguments\n",
        "\n",
        "\n",
        "'''\n",
        "Parameters:These are the variables defined within the parentheses in a function's definition. They act as placeholders or names for the values that the function expects to receive when it is called. Parameters are part of the function's signature and dictate the type and number of inputs the function can accept.\n",
        "'''"
      ],
      "metadata": {
        "id": "mVJ8mxCmKffZ",
        "colab": {
          "base_uri": "https://localhost:8080/",
          "height": 70
        },
        "outputId": "444aff14-903d-400e-a37b-db6ef90515bb"
      },
      "execution_count": 65,
      "outputs": [
        {
          "output_type": "stream",
          "name": "stdout",
          "text": [
            "Hello, Alice! You are 30 years old.\n"
          ]
        },
        {
          "output_type": "execute_result",
          "data": {
            "text/plain": [
              "\"\\nParameters:These are the variables defined within the parentheses in a function's definition. They act as placeholders or names for the values that the function expects to receive when it is called. Parameters are part of the function's signature and dictate the type and number of inputs the function can accept.\\n\""
            ],
            "application/vnd.google.colaboratory.intrinsic+json": {
              "type": "string"
            }
          },
          "metadata": {},
          "execution_count": 65
        }
      ]
    },
    {
      "cell_type": "code",
      "source": [
        "#3. What are the different ways to define and call a function in Python?\n",
        "\n",
        "'''\n",
        "- Functions in Python are defined using the def keyword. The basic syntax is as follows:\n",
        "'''\n",
        "def function_name(parameter1, parameter2):\n",
        "    return function_name\n",
        "\n",
        "'''\n",
        "Key elements:\n",
        "\n",
        "  - def keyword: Initiates the function definition.\n",
        "  - function_name: A unique identifier for the function.\n",
        "  - Parentheses (): Enclose the function's parameters (arguments). Parameters are optional.\n",
        "  - Colon :: Marks the end of the function header.\n",
        "  - Indented code block: The statements that make up the function's body must be indented.\n",
        "  - return statement (optional): Used to exit the function and optionally return a value.\n",
        "\n",
        "Calling a Function in Python\n",
        "\n",
        "   - To execute the code within a defined function, you need to call it.\n",
        "\n",
        "# Calling a function without arguments\n",
        "function_name()\n",
        "\n",
        "# Calling a function with arguments\n",
        "function_name(argument1, argument2, ...)\n",
        "\n",
        "# Storing the return value\n",
        "result_variable = function_name(argument1)\n",
        "\n",
        "Key elements:\n",
        "\n",
        "-function_name: The name of the function you want to execute.\n",
        "-Parentheses (): Essential for calling the function.\n",
        "-Arguments: Values passed within the parentheses that correspond to the function's parameters.\n",
        "-Return value: If the function returns a value, it can be assigned to a variable or used directly.\n",
        "\n",
        "Example:\n",
        "'''\n",
        "\n",
        "def greet(name):\n",
        "    \"\"\"Prints a greeting message.\"\"\"\n",
        "    return f\"Hello, {name}!\"\n",
        "\n",
        "# Calling the function\n",
        "message = greet(\"Alice\")\n",
        "print(message)\n",
        "\n",
        "# Calling the function directly in a print statement\n",
        "print(greet(\"Bob\"))"
      ],
      "metadata": {
        "id": "jZmUcFtwKfdv",
        "colab": {
          "base_uri": "https://localhost:8080/"
        },
        "outputId": "385f226c-f2fa-46e2-d2ad-7bc4f447842b"
      },
      "execution_count": 66,
      "outputs": [
        {
          "output_type": "stream",
          "name": "stdout",
          "text": [
            "Hello, Alice!\n",
            "Hello, Bob!\n"
          ]
        }
      ]
    },
    {
      "cell_type": "code",
      "source": [
        "#4. What is the purpose of the `return` statement in a Python function?\n",
        "\n",
        "'''\n",
        "The return statement in a Python function serves two primary purposes:\n",
        "\n",
        "To exit the function: When a return statement is encountered within a function, the execution of that function immediately terminates. No further code within the function (after the return statement) will be executed.\n",
        "\n",
        "To send a value back to the caller: The return statement can optionally be followed by an expression or a value. This value is then passed back to the part of the code that called the function. This returned value can be stored in a variable, used in another expression, or passed as an argument to another function. If no value is specified after return, or if the return statement is omitted entirely, the function implicitly returns None.\n",
        "'''\n",
        "def add_numbers(a, b):\n",
        "    sum_result = a + b\n",
        "    return sum_result  # Returns the calculated sum\n",
        "\n",
        "result = add_numbers(5, 3)\n",
        "print(result) # Output: 8\n",
        "\n",
        "'''\n",
        "In this example, add_numbers calculates the sum and uses return sum_result to send that sum back to the calling code, which then stores it in the result variable.\n",
        "'''"
      ],
      "metadata": {
        "id": "Orqk9mL8X5xA",
        "colab": {
          "base_uri": "https://localhost:8080/",
          "height": 53
        },
        "outputId": "ce487a8e-5fa5-4094-e6b9-f3b05c46851a"
      },
      "execution_count": 67,
      "outputs": [
        {
          "output_type": "stream",
          "name": "stdout",
          "text": [
            "8\n"
          ]
        },
        {
          "output_type": "execute_result",
          "data": {
            "text/plain": [
              "'\\nIn this example, add_numbers calculates the sum and uses return sum_result to send that sum back to the calling code, which then stores it in the result variable.\\n'"
            ],
            "application/vnd.google.colaboratory.intrinsic+json": {
              "type": "string"
            }
          },
          "metadata": {},
          "execution_count": 67
        }
      ]
    },
    {
      "cell_type": "markdown",
      "source": [
        "5. What are iterators in Python and how do they differ from iterables?\n",
        "\n",
        "   - In Python, iterators and iterables are fundamental concepts for working with sequences of data.\n",
        "\n",
        "     **Iterables**:\n",
        "     An iterable is an object that can be iterated over, meaning you can loop through its elements. Common examples of iterables include lists, tuples, strings, and dictionaries. An object is considered an iterable if it implements the __iter__() method, which returns an iterator.\n",
        "\n",
        "     **Iterators:**\n",
        "     An iterator is an object that represents a stream of data. It is used to traverse through the elements of an iterable one at a time. An iterator must implement two methods:\n",
        "     __iter__(): This method returns the iterator object itself.\n",
        "     __next__(): This method returns the next item from the sequence. If there are no more items, it raises a StopIteration exception.\n",
        "   \n",
        "     **Differences between Iterables and Iterators:**\n",
        "\n",
        "     **Purpose:** An iterable is a container of elements that can be iterated over, while an iterator is an object that performs the iteration over an iterable.\n",
        "\n",
        "     **Methods:** Iterables primarily implement __iter__(), while iterators implement both __iter__() and __next__().\n",
        "\n",
        "     **State:** Iterators maintain an internal state to keep track of the current position during iteration, allowing them to return the \"next\" element. Iterables do not inherently maintain this iteration state.\n",
        "\n",
        "     **Relationship:** Every iterator is also an iterable (because it implements __iter__()), but not every iterable is an iterator (as it may not implement __next__()). You can obtain an iterator from an iterable using the built-in iter() function.\n",
        "\n",
        "     In essence, an iterable is the \"what\" (the collection of data), and an iterator is the \"how\" (the mechanism for accessing that data sequentially).\n",
        "   "
      ],
      "metadata": {
        "id": "fI_dfSSEY3tW"
      }
    },
    {
      "cell_type": "code",
      "source": [
        "#6. Explain the concept of generators in Python and how they are defined?\n",
        "\n",
        "'''\n",
        "  -Generators in Python are a special type of function that act as iterators, allowing you to iterate over a sequence of values without storing the entire sequence in memory. Unlike regular functions that use return to provide a single value and terminate, generator functions use the yield keyword to produce a value and pause their execution, preserving their state. When the next value is requested, the generator resumes from where it left off.\n",
        "\n",
        "'''\n",
        "\n",
        "#How Generators are Defined:\n",
        "\n",
        "'''\n",
        "Generators are defined in Python using the def keyword, similar to regular functions, but they contain one or more yield statements instead of return statements to produce values.\n",
        "\n",
        "Here's a breakdown of how they are defined: Using def and yield.\n",
        "\n",
        "A function becomes a generator function if it contains at least one yield statement. When this function is called, it does not execute immediately but instead returns a generator object. This object is an iterator that can be iterated over (e.g., using a for loop or next() function) to retrieve the yielded values.\n",
        "'''\n",
        "\n",
        "def my_generator():\n",
        "    yield 1\n",
        "    yield 2\n",
        "    yield 3\n",
        "\n",
        "# Creating a generator object\n",
        "gen = my_generator()\n",
        "\n",
        "# Iterating through the generator\n",
        "print(next(gen))  # Output: 1\n",
        "print(next(gen))  # Output: 2\n",
        "print(next(gen))  # Output: 3\n",
        "\n",
        "'''\n",
        "generator expressions.\n",
        "\n",
        "For simple cases, you can also define generators using a concise syntax called generator expressions, which are similar to list comprehensions but use parentheses instead of square brackets.\n",
        "'''\n",
        "\n",
        "# Generator expression\n",
        "squares_gen = (x*x for x in range(5))\n",
        "\n",
        "# Iterating through the generator expression\n",
        "for num in squares_gen:\n",
        "    print(num)\n",
        "# Output: 0, 1, 4, 9, 16\n",
        "\n",
        "#Key Characteristics of Generators:\n",
        "\n",
        "'''\n",
        "-Lazy Evaluation: Values are generated on demand, only when requested, leading to efficient memory usage, especially for large or infinite sequences.\n",
        "\n",
        "-Memory Efficiency: They do not store the entire sequence in memory, making them ideal for handling large datasets.\n",
        "\n",
        "-Iterators: Generator objects are themselves iterators, meaning they can be used in for loops and with functions like next().\n",
        "\n",
        "-State Preservation: The state of the generator is maintained between yield calls, allowing it to resume execution from the point it last yielded a value.\n",
        "'''"
      ],
      "metadata": {
        "id": "H1lvm9ggREzk",
        "colab": {
          "base_uri": "https://localhost:8080/",
          "height": 226
        },
        "outputId": "bfab534d-a7a6-46d7-a12f-71b2674b3338"
      },
      "execution_count": 68,
      "outputs": [
        {
          "output_type": "stream",
          "name": "stdout",
          "text": [
            "1\n",
            "2\n",
            "3\n",
            "0\n",
            "1\n",
            "4\n",
            "9\n",
            "16\n"
          ]
        },
        {
          "output_type": "execute_result",
          "data": {
            "text/plain": [
              "'\\n-Lazy Evaluation: Values are generated on demand, only when requested, leading to efficient memory usage, especially for large or infinite sequences.\\n\\n-Memory Efficiency: They do not store the entire sequence in memory, making them ideal for handling large datasets.\\n\\n-Iterators: Generator objects are themselves iterators, meaning they can be used in for loops and with functions like next().\\n\\n-State Preservation: The state of the generator is maintained between yield calls, allowing it to resume execution from the point it last yielded a value.\\n'"
            ],
            "application/vnd.google.colaboratory.intrinsic+json": {
              "type": "string"
            }
          },
          "metadata": {},
          "execution_count": 68
        }
      ]
    },
    {
      "cell_type": "markdown",
      "source": [
        "7. What are the advantages of using generators over regular functions?\n",
        "   - Generators are advantageous over regular functions because they offer memory efficiency by producing values on-demand rather than storing them all in memory, making them ideal for large or infinite datasets. They provide lazy evaluation, leading to improved performance, and support data pipelining by chaining operations. Generators also simplify the representation of infinite sequences and are easier to implement for complex iterators because they manage iteration state automatically.\n",
        "   \n",
        "     **Here are the key advantages of generators:**\n",
        "\n",
        "     -**Memory Efficiency:** Generators yield one item at a time, rather than generating and storing an entire collection of items in memory. This makes them extremely memory-efficient, especially when dealing with massive datasets or streams of data that would otherwise exceed memory capacity.\n",
        "\n",
        "     -**Lazy Evaluation:** Generators use lazy evaluation, meaning values are generated only when requested. This improves performance by reducing the computational overhead and avoiding the need to process and store data that might not even be used.\n",
        "\n",
        "     -**Infinite Sequences:** Generators can represent infinite sequences of data, like the Fibonacci sequence, because they produce values as needed rather than relying on a finite collection.\n",
        "\n",
        "     -**Data Pipelining:** Generators enable the creation of data processing pipelines by chaining multiple generators together. Each generator processes a segment of data and passes it to the next, forming an efficient and memory-friendly workflow.\n",
        "\n",
        "     -**Simpler State Management:** Generators automatically handle the complexities of creating iterators, implementing the necessary __iter__() and __next__() methods, and managing StopIteration exceptions, simplifying the implementation of custom iterators.\n",
        "\n",
        "     -**Improved Performance:** Due to lazy evaluation and reduced memory usage, generators can significantly improve the performance of programs, particularly those that involve large amounts of data or complex iterative operations."
      ],
      "metadata": {
        "id": "LpSRnfwES1BM"
      }
    },
    {
      "cell_type": "code",
      "source": [
        "#8. What is a lambda function in Python and when is it typically used?\n",
        "\n",
        "'''\n",
        "A lambda function in Python is a small, anonymous function defined using the lambda keyword. Unlike regular functions defined with def, lambda functions do not have a name and are restricted to a single expression. They can take any number of arguments but can only have one expression, which is implicitly returned.\n",
        "\n",
        "'''\n",
        "\n",
        "lambda arguments: expression\n",
        "\n",
        "#When is it typically used?\n",
        "'''\n",
        "Lambda functions are typically used in situations where a small, single-expression function is needed for a short period and defining a full def function would be overly verbose or unnecessary. They are particularly useful in conjunction with higher-order functions that accept other functions as arguments.\n",
        "Common use cases include:\n",
        "With map(), filter(), and reduce(): Lambda functions provide a concise way to define the logic for these built-in functions, which apply a function to each item in an iterable, filter items based on a condition, or cumulatively apply a function to items in an iterable, respectively.\n",
        "'''\n",
        "# Example with map()\n",
        "numbers = [1, 2, 3]\n",
        "squared_numbers = list(map(lambda x: x * x, numbers))\n",
        "# squared_numbers will be [1, 4, 9]\n",
        "\n",
        "'''\n",
        "For sorting based on a custom key: When sorting lists of complex objects, lambda functions can provide a concise way to define the sorting key.\n",
        "'''\n",
        "\n",
        "# Example with sorted()\n",
        "data = [('apple', 3), ('banana', 1), ('cherry', 2)]\n",
        "sorted_data = sorted(data, key=lambda item: item[1])\n",
        "print(sorted_data) # Output: [('banana', 1), ('cherry', 2), ('apple', 3)]\n",
        "\n",
        "\n",
        "# Example with map()\n",
        "numbers = [1, 2, 3]\n",
        "squared_numbers = list(map(lambda x: x * x, numbers))\n",
        "# squared_numbers will be [1, 4, 9]"
      ],
      "metadata": {
        "id": "vhIGpK8plSTx",
        "colab": {
          "base_uri": "https://localhost:8080/"
        },
        "outputId": "52d0e1c8-0d76-4c0e-f6c1-19a0a4cd2bc5"
      },
      "execution_count": 69,
      "outputs": [
        {
          "output_type": "stream",
          "name": "stdout",
          "text": [
            "[('banana', 1), ('cherry', 2), ('apple', 3)]\n"
          ]
        }
      ]
    },
    {
      "cell_type": "code",
      "source": [
        "numbers = [1, 2, 3]\n",
        "squared_numbers = list(map(lambda x: x * x, numbers))"
      ],
      "metadata": {
        "id": "TJLqv43ilSRZ"
      },
      "execution_count": 70,
      "outputs": []
    },
    {
      "cell_type": "code",
      "source": [
        "#9. Explain the purpose and usage of the `map()` function in Python?\n",
        "\n",
        "'''\n",
        "The map() function in Python serves the purpose of applying a specified function to each item in an iterable (such as a list, tuple, or set) and returning an iterator that yields the results. It provides a concise and efficient way to transform collections of data without explicitly writing a for loop.\n",
        "\n",
        "Purpose:\n",
        "Transformation: The primary purpose is to transform elements within an iterable by applying a function uniformly to each element.\n",
        "Conciseness: It offers a more functional programming style, often leading to more compact and readable code compared to explicit loops for simple transformations.\n",
        "Efficiency: For certain scenarios, especially with large datasets, map() can be more efficient than manual looping, as it's often implemented in optimized C code.\n",
        "\n",
        "Usage:\n",
        "The map() function takes two main arguments:\n",
        "function: The function to be applied to each item. This can be a named function or an anonymous lambda function.\n",
        "iterable: One or more iterables whose elements will be passed as arguments to the function. If multiple iterables are provided, the function must accept an equal number of arguments, and map() will process elements in parallel from each iterable until the shortest iterable is exhausted.\n",
        "\n",
        "'''\n",
        "\n",
        "# Using a named function\n",
        "def square(x):\n",
        "    return x * x\n",
        "\n",
        "numbers = [1, 2, 3, 4]\n",
        "squared_numbers_map_object = map(square, numbers)\n",
        "squared_numbers_list = list(squared_numbers_map_object)\n",
        "print(f\"Squared numbers (named function): {squared_numbers_list}\")\n",
        "\n",
        "# Using a lambda function\n",
        "temperatures_celsius = [0, 20, 37, 100]\n",
        "temperatures_fahrenheit_map_object = map(lambda c: (c * 9/5) + 32, temperatures_celsius)\n",
        "temperatures_fahrenheit_list = list(temperatures_fahrenheit_map_object)\n",
        "print(f\"Temperatures in Fahrenheit (lambda): {temperatures_fahrenheit_list}\")\n",
        "\n",
        "# Using multiple iterables\n",
        "list1 = [1, 2, 3]\n",
        "list2 = [4, 5, 6]\n",
        "sum_lists_map_object = map(lambda x, y: x + y, list1, list2)\n",
        "sum_lists_list = list(sum_lists_map_object)\n",
        "print(f\"Sum of elements from two lists: {sum_lists_list}\")\n",
        "\n",
        "\n",
        "'''\n",
        "The map() function returns a map object, which is an iterator. To view the results as a list, tuple, or other collection, it needs to be explicitly converted using functions like list(), tuple(), etc.\n",
        "'''\n",
        "\n"
      ],
      "metadata": {
        "id": "ZUKQwHyGpbrK",
        "colab": {
          "base_uri": "https://localhost:8080/",
          "height": 105
        },
        "outputId": "51e2e487-357b-4664-f53e-a10cdb866eda"
      },
      "execution_count": 71,
      "outputs": [
        {
          "output_type": "stream",
          "name": "stdout",
          "text": [
            "Squared numbers (named function): [1, 4, 9, 16]\n",
            "Temperatures in Fahrenheit (lambda): [32.0, 68.0, 98.6, 212.0]\n",
            "Sum of elements from two lists: [5, 7, 9]\n"
          ]
        },
        {
          "output_type": "execute_result",
          "data": {
            "text/plain": [
              "'\\nThe map() function returns a map object, which is an iterator. To view the results as a list, tuple, or other collection, it needs to be explicitly converted using functions like list(), tuple(), etc.\\n'"
            ],
            "application/vnd.google.colaboratory.intrinsic+json": {
              "type": "string"
            }
          },
          "metadata": {},
          "execution_count": 71
        }
      ]
    },
    {
      "cell_type": "code",
      "source": [
        "#10. What is the difference between `map()`, `reduce()`, and `filter()` functions in Python?\n",
        "\n",
        "'''\n",
        "The map(), reduce(), and filter() functions in Python are all higher-order functions that operate on iterables, but they serve distinct purposes:\n",
        "map():\n",
        "Purpose: Applies a given function to each item of an iterable and returns a new iterable (a map object) containing the results. It transforms each element individually.\n",
        "Output: An iterable of the same length as the input, with each element transformed by the function.\n",
        "Example: Doubling all numbers in a list.\n",
        "'''\n",
        "\n",
        "numbers = [1, 2, 3, 4]\n",
        "doubled_numbers = list(map(lambda x: x * 2, numbers))\n",
        "# doubled_numbers will be [2, 4, 6, 8]\n",
        "\n",
        "'''\n",
        "filter():\n",
        "Purpose: Constructs a new iterable (a filter object) with elements from the original iterable for which a provided function returns True. It selectively includes elements based on a condition.\n",
        "Output: An iterable containing only the elements that satisfy the condition, potentially shorter than the input.\n",
        "Example: Extracting even numbers from a list.\n",
        "'''\n",
        "\n",
        "numbers = [1, 2, 3, 4, 5, 6]\n",
        "even_numbers = list(filter(lambda x: x % 2 == 0, numbers))\n",
        "# even_numbers will be [2, 4, 6]\n",
        "\n",
        "'''\n",
        "reduce():\n",
        "Purpose: Applies a function cumulatively to the items of an iterable, reducing the iterable to a single value. It combines elements sequentially.\n",
        "Note: reduce() is not a built-in function and needs to be imported from the functools module (from functools import reduce).\n",
        "Output: A single value, which is the accumulated result of applying the function across the iterable.\n",
        "Example: Calculating the sum of all numbers in a list.\n",
        "'''\n",
        "\n",
        "from functools import reduce\n",
        "numbers = [1, 2, 3, 4]\n",
        "sum_of_numbers = reduce(lambda x, y: x + y, numbers)\n",
        "# sum_of_numbers will be 10\n",
        "\n",
        "'''\n",
        "In summary: map() transforms each element, filter() selects elements based on a condition, and reduce() combines elements into a single result.\n",
        "'''"
      ],
      "metadata": {
        "collapsed": true,
        "id": "YLWyaYVtpbpK",
        "colab": {
          "base_uri": "https://localhost:8080/",
          "height": 36
        },
        "outputId": "1399a0ed-8bae-47f7-fcc0-a6a8a2e26cf0"
      },
      "execution_count": 72,
      "outputs": [
        {
          "output_type": "execute_result",
          "data": {
            "text/plain": [
              "'\\nIn summary: map() transforms each element, filter() selects elements based on a condition, and reduce() combines elements into a single result.\\n'"
            ],
            "application/vnd.google.colaboratory.intrinsic+json": {
              "type": "string"
            }
          },
          "metadata": {},
          "execution_count": 72
        }
      ]
    },
    {
      "cell_type": "markdown",
      "source": [
        "11. Using pen & Paper write the internal mechanism for sum operation using  reduce function on this givenlist:[47,11,42,13]\n",
        "    - The reduce() function, typically found in modules like functools in Python or as a method on arrays in JavaScript, iteratively applies a function to the elements of an iterable, accumulating a single result. For a sum operation on the list [47, 11, 42, 13], the internal mechanism unfolds as follows:\n",
        "\n",
        "      **Initial Call:**\n",
        "\n",
        "      The reduce() function takes two main arguments: a function (e.g., a lambda function lambda x, y: x + y for sum) and the iterable (the list [47, 11, 42, 13]). An optional initial value can also be provided. If no initial value is given, the first element of the list serves as the initial accumulator.\n",
        "\n",
        "      **Iteration 1:**\n",
        "\n",
        "      The function is applied to the first two elements of the list: 47 and 11.\n",
        "      47 + 11 = 58. This result (58) becomes the new accumulator.\n",
        "\n",
        "      **Iteration 2:**\n",
        "\n",
        "      The function is applied to the current accumulator (58) and the next element in the list (42).\n",
        "      58 + 42 = 100. This result (100) becomes the new accumulator.\n",
        "\n",
        "      **Iteration 3:**\n",
        "\n",
        "      The function is applied to the current accumulator (100) and the final element in the list (13).\n",
        "      100 + 13 = 113. This result (113) becomes the new accumulator.\n",
        "\n",
        "      **Final Result:**\n",
        "\n",
        "      All elements in the list have been processed. The final value of the accumulator (113) is returned as the result of the reduce() operation.\n",
        "\n",
        "      In essence, reduce() repeatedly combines elements of the list using the provided function, progressively building up the final accumulated value."
      ],
      "metadata": {
        "id": "-O7x3k6tO9AF"
      }
    },
    {
      "cell_type": "markdown",
      "source": [
        "**Practical Questions:**"
      ],
      "metadata": {
        "id": "kEn-f3vnY3rv"
      }
    },
    {
      "cell_type": "code",
      "source": [
        "#1. Write a Python function that takes a list of numbers as input and returns the sum of all even numbers in the list?\n",
        "\n",
        "number = [1, 2, 3, 4, 5, 6, 7, 8, 9, 10]\n",
        "\n",
        "def sum_even_numbers(numbers):\n",
        "    \"\"\"\n",
        "    Calculates the sum of all even numbers in a list.\n",
        "\n",
        "    Args:\n",
        "        numbers: A list of numbers.\n",
        "\n",
        "    Returns:\n",
        "        The sum of all even numbers in the list.\n",
        "    \"\"\"\n",
        "    total_even_sum = 0\n",
        "    for number in numbers:\n",
        "        if number % 2 == 0:  # Check if the number is even\n",
        "            total_even_sum += number\n",
        "    return total_even_sum\n",
        "\n",
        "# Example usage:\n",
        "result = sum_even_numbers(number)\n",
        "print(result)"
      ],
      "metadata": {
        "id": "rMeaLGyMX5vn",
        "colab": {
          "base_uri": "https://localhost:8080/"
        },
        "outputId": "231d496d-3bd2-4114-d40d-25c7f6a9ad58"
      },
      "execution_count": 74,
      "outputs": [
        {
          "output_type": "stream",
          "name": "stdout",
          "text": [
            "30\n"
          ]
        }
      ]
    },
    {
      "cell_type": "code",
      "source": [
        "#2. Create a Python function that accepts a string and returns the reverse of that string.\n",
        "\n",
        "\n",
        "def reverse_string(input_string):\n",
        "  \"\"\"\n",
        "  Reverses a given string.\n",
        "\n",
        "  Args:\n",
        "    input_string: The string to be reversed.\n",
        "\n",
        "  Returns:\n",
        "    The reversed string.\n",
        "  \"\"\"\n",
        "  return input_string[::-1]\n",
        "\n",
        "# Example usage:\n",
        "original_text = \"hello world\"\n",
        "reversed_text = reverse_string(original_text)\n",
        "print(f\"Original string: {original_text}\")\n",
        "print(f\"Reversed string: {reversed_text}\")\n",
        "\n",
        "original_text_2 = \"Python\"\n",
        "reversed_text_2 = reverse_string(original_text_2)\n",
        "print(f\"Original string: {original_text_2}\")\n",
        "print(f\"Reversed string: {reversed_text_2}\")"
      ],
      "metadata": {
        "id": "DTX2A2BGUdOh",
        "colab": {
          "base_uri": "https://localhost:8080/"
        },
        "outputId": "712911be-aa24-43fe-9217-61557294a04f"
      },
      "execution_count": 75,
      "outputs": [
        {
          "output_type": "stream",
          "name": "stdout",
          "text": [
            "Original string: hello world\n",
            "Reversed string: dlrow olleh\n",
            "Original string: Python\n",
            "Reversed string: nohtyP\n"
          ]
        }
      ]
    },
    {
      "cell_type": "code",
      "source": [
        "#3. Implement a Python function that takes a list of integers and returns a new list containing the squares of each number.\n",
        "\n",
        "def square_list_elements(input_list):\n",
        "\n",
        "  \"\"\"\n",
        "  Takes a list of integers and returns a new list containing the squares of each number.\n",
        "\n",
        "  Args:\n",
        "    input_list: A list of integers.\n",
        "\n",
        "  Returns:\n",
        "    A new list with each element from the input_list squared.\n",
        "  \"\"\"\n",
        "  squared_list = []\n",
        "  for number in input_list:\n",
        "    squared_list.append(number ** 2)\n",
        "  return squared_list\n",
        "\n",
        "# Example usage:\n",
        "my_numbers = [1, 2, 3, 4, 5]\n",
        "squared_numbers = square_list_elements(my_numbers)\n",
        "print(f\"Original list: {my_numbers}\")\n",
        "print(f\"Squared list: {squared_numbers}\")\n",
        "\n",
        "another_list = [-2, 0, 7, -1]\n",
        "squared_another_list = square_list_elements(another_list)\n",
        "print(f\"Original list: {another_list}\")\n",
        "print(f\"Squared list: {squared_another_list}\")"
      ],
      "metadata": {
        "id": "qADPJ0iNUdNE",
        "colab": {
          "base_uri": "https://localhost:8080/"
        },
        "outputId": "f48cb8f5-f3b3-456c-eb96-11e87ba73ce8"
      },
      "execution_count": 77,
      "outputs": [
        {
          "output_type": "stream",
          "name": "stdout",
          "text": [
            "Original list: [1, 2, 3, 4, 5]\n",
            "Squared list: [1, 4, 9, 16, 25]\n",
            "Original list: [-2, 0, 7, -1]\n",
            "Squared list: [4, 0, 49, 1]\n"
          ]
        }
      ]
    },
    {
      "cell_type": "code",
      "source": [
        "#4. Write a Python function that checks if a given number is prime or not from 1 to 200.\n",
        "\n",
        "import math\n",
        "\n",
        "def is_prime(number):\n",
        "    \"\"\"\n",
        "    Checks if a given number is prime.\n",
        "\n",
        "    Args:\n",
        "        number: An integer to be checked for primality.\n",
        "\n",
        "    Returns:\n",
        "        True if the number is prime, False otherwise.\n",
        "    \"\"\"\n",
        "    if number <= 1:\n",
        "        return False  # Numbers less than or equal to 1 are not prime\n",
        "    if number == 2:\n",
        "        return True   # 2 is the only even prime number\n",
        "    if number % 2 == 0:\n",
        "        return False  # Other even numbers are not prime\n",
        "\n",
        "    # Check for divisibility by odd numbers up to the square root of the number\n",
        "    for i in range(3, int(math.sqrt(number)) + 1, 2):\n",
        "        if number % i == 0:\n",
        "            return False\n",
        "    return True\n",
        "\n",
        "# Example usage for numbers from 1 to 200\n",
        "print(\"Prime numbers between 1 and 200:\")\n",
        "for num in range(1, 201):\n",
        "    if is_prime(num):\n",
        "        print(num, end=\" \")\n",
        "print()"
      ],
      "metadata": {
        "colab": {
          "base_uri": "https://localhost:8080/"
        },
        "id": "SVBNP1WeTQyM",
        "outputId": "1fb7ee63-66b5-46a6-88d4-734b2ee88c72"
      },
      "execution_count": 78,
      "outputs": [
        {
          "output_type": "stream",
          "name": "stdout",
          "text": [
            "Prime numbers between 1 and 200:\n",
            "2 3 5 7 11 13 17 19 23 29 31 37 41 43 47 53 59 61 67 71 73 79 83 89 97 101 103 107 109 113 127 131 137 139 149 151 157 163 167 173 179 181 191 193 197 199 \n"
          ]
        }
      ]
    },
    {
      "cell_type": "code",
      "source": [
        "#5. Create an iterator class in Python that generates the Fibonacci sequence up to a specified number of terms.\n",
        "\n",
        "class FibonacciIterator:\n",
        "    \"\"\"\n",
        "    An iterator class that generates the Fibonacci sequence up to a specified number of terms.\n",
        "    \"\"\"\n",
        "    def __init__(self, num_terms):\n",
        "        if not isinstance(num_terms, int) or num_terms < 0:\n",
        "            raise ValueError(\"Number of terms must be a non-negative integer.\")\n",
        "        self.num_terms = num_terms\n",
        "        self.a = 0\n",
        "        self.b = 1\n",
        "        self.count = 0\n",
        "\n",
        "    def __iter__(self):\n",
        "        return self\n",
        "\n",
        "    def __next__(self):\n",
        "        if self.count >= self.num_terms:\n",
        "            raise StopIteration\n",
        "\n",
        "        if self.count == 0:\n",
        "            self.count += 1\n",
        "            return 0\n",
        "        elif self.count == 1:\n",
        "            self.count += 1\n",
        "            return 1\n",
        "        else:\n",
        "            next_fib = self.a + self.b\n",
        "            self.a = self.b\n",
        "            self.b = next_fib\n",
        "            self.count += 1\n",
        "            return next_fib\n",
        "\n",
        "# Example usage:\n",
        "if __name__ == \"__main__\":\n",
        "    print(\"Fibonacci sequence for 10 terms:\")\n",
        "    fib_gen = FibonacciIterator(10)\n",
        "    for num in fib_gen:\n",
        "        print(num, end=\" \")\n",
        "    print(\"\\n\")\n",
        "\n",
        "    print(\"Fibonacci sequence for 5 terms:\")\n",
        "    fib_gen_five = FibonacciIterator(5)\n",
        "    for num in fib_gen_five:\n",
        "        print(num, end=\" \")\n",
        "    print(\"\\n\")\n",
        "\n",
        "    print(\"Fibonacci sequence for 1 term:\")\n",
        "    fib_gen_one = FibonacciIterator(1)\n",
        "    for num in fib_gen_one:\n",
        "        print(num, end=\" \")\n",
        "    print(\"\\n\")\n",
        "\n",
        "    print(\"Fibonacci sequence for 0 terms:\")\n",
        "    fib_gen_zero = FibonacciIterator(0)\n",
        "    for num in fib_gen_zero:\n",
        "        print(num, end=\" \")\n",
        "    print(\"\\n\")"
      ],
      "metadata": {
        "colab": {
          "base_uri": "https://localhost:8080/"
        },
        "id": "GVWWOA8zTaB6",
        "outputId": "21b5bbbe-843f-456e-92b3-e50493349bc2"
      },
      "execution_count": 79,
      "outputs": [
        {
          "output_type": "stream",
          "name": "stdout",
          "text": [
            "Fibonacci sequence for 10 terms:\n",
            "0 1 1 2 3 5 8 13 21 34 \n",
            "\n",
            "Fibonacci sequence for 5 terms:\n",
            "0 1 1 2 3 \n",
            "\n",
            "Fibonacci sequence for 1 term:\n",
            "0 \n",
            "\n",
            "Fibonacci sequence for 0 terms:\n",
            "\n",
            "\n"
          ]
        }
      ]
    },
    {
      "cell_type": "code",
      "source": [
        "#6. Write a generator function in Python that yields the powers of 2 up to a given exponent.\n",
        "\n",
        "def powers_of_two_generator(max_exponent):\n",
        "    \"\"\"\n",
        "    Yields the powers of 2 up to a given exponent (inclusive).\n",
        "\n",
        "    Args:\n",
        "        max_exponent (int): The maximum exponent to calculate powers of 2 for.\n",
        "                            The powers will be calculated from 2^0 up to 2^max_exponent.\n",
        "\n",
        "    Yields:\n",
        "        int: The next power of 2.\n",
        "    \"\"\"\n",
        "    for exponent in range(max_exponent + 1):\n",
        "        yield 2 ** exponent\n",
        "\n",
        "# Example usage:\n",
        "# Create a generator object for powers of 2 up to exponent 5\n",
        "powers_gen = powers_of_two_generator(5)\n",
        "\n",
        "# Iterate through the generator and print the powers\n",
        "print(\"Powers of 2 up to exponent 5:\")\n",
        "for power in powers_gen:\n",
        "    print(power)\n",
        "\n",
        "# Another example: powers of 2 up to exponent 3\n",
        "powers_gen_short = powers_of_two_generator(3)\n",
        "print(\"\\nPowers of 2 up to exponent 3:\")\n",
        "print(list(powers_gen_short)) # Convert to a list to print all at once"
      ],
      "metadata": {
        "colab": {
          "base_uri": "https://localhost:8080/"
        },
        "id": "goiw4d81TiZa",
        "outputId": "926c4aad-01e3-49f1-b0ca-5d69874d76f2"
      },
      "execution_count": 80,
      "outputs": [
        {
          "output_type": "stream",
          "name": "stdout",
          "text": [
            "Powers of 2 up to exponent 5:\n",
            "1\n",
            "2\n",
            "4\n",
            "8\n",
            "16\n",
            "32\n",
            "\n",
            "Powers of 2 up to exponent 3:\n",
            "[1, 2, 4, 8]\n"
          ]
        }
      ]
    },
    {
      "cell_type": "code",
      "source": [
        "#7. Implement a generator function that reads a file line by line and yields each line as a string.\n",
        "\n",
        "def read_file_lines(filepath):\n",
        "    \"\"\"\n",
        "    Reads a file line by line and yields each line as a string.\n",
        "\n",
        "    Args:\n",
        "        filepath (str): The path to the file to be read.\n",
        "\n",
        "    Yields:\n",
        "        str: Each line from the file.\n",
        "    \"\"\"\n",
        "    try:\n",
        "        with open(filepath, 'r') as file:\n",
        "            for line in file:\n",
        "                yield line.rstrip('\\n')  # Remove trailing newline characters\n",
        "    except FileNotFoundError:\n",
        "        print(f\"Error: The file '{filepath}' was not found.\")\n",
        "    except Exception as e:\n",
        "        print(f\"An error occurred while reading the file: {e}\")\n",
        "\n",
        "# Example usage:\n",
        "# Create a dummy file for demonstration\n",
        "with open(\"example.txt\", \"w\") as f:\n",
        "    f.write(\"This is line 1.\\n\")\n",
        "    f.write(\"This is line 2.\\n\")\n",
        "    f.write(\"This is line 3.\\n\")\n",
        "\n",
        "print(\"Reading lines from 'example.txt':\")\n",
        "for line in read_file_lines(\"example.txt\"):\n",
        "    print(line)\n",
        "\n",
        "print(\"\\nAttempting to read from a non-existent file:\")\n",
        "for line in read_file_lines(\"non_existent_file.txt\"):\n",
        "    print(line)"
      ],
      "metadata": {
        "colab": {
          "base_uri": "https://localhost:8080/"
        },
        "id": "0joQGvLRTpdr",
        "outputId": "ff49894a-e73f-4fce-c28b-224527ffa740"
      },
      "execution_count": 81,
      "outputs": [
        {
          "output_type": "stream",
          "name": "stdout",
          "text": [
            "Reading lines from 'example.txt':\n",
            "This is line 1.\n",
            "This is line 2.\n",
            "This is line 3.\n",
            "\n",
            "Attempting to read from a non-existent file:\n",
            "Error: The file 'non_existent_file.txt' was not found.\n"
          ]
        }
      ]
    },
    {
      "cell_type": "code",
      "source": [
        "#8. Use a lambda function in Python to sort a list of tuples based on the second element of each tuple.\n",
        "\n",
        "data = [('apple', 3), ('banana', 1), ('cherry', 5), ('date', 2)]\n",
        "\n",
        "# Sort the list of tuples based on the second element (index 1)\n",
        "sorted_data = sorted(data, key=lambda x: x[1])\n",
        "\n",
        "print(sorted_data)"
      ],
      "metadata": {
        "colab": {
          "base_uri": "https://localhost:8080/"
        },
        "id": "p4NSdUyyTwF8",
        "outputId": "6337d527-d9a4-4776-bbcd-cf6b9e374fa6"
      },
      "execution_count": 82,
      "outputs": [
        {
          "output_type": "stream",
          "name": "stdout",
          "text": [
            "[('banana', 1), ('date', 2), ('apple', 3), ('cherry', 5)]\n"
          ]
        }
      ]
    },
    {
      "cell_type": "code",
      "source": [
        "#9. Write a Python program that uses `map()` to convert a list of temperatures from Celsius to Fahrenheit.\n",
        "\n",
        "def celsius_to_fahrenheit(celsius_temp):\n",
        "  \"\"\"Converts a temperature from Celsius to Fahrenheit.\"\"\"\n",
        "  return (celsius_temp * 9/5) + 32\n",
        "\n",
        "# List of temperatures in Celsius\n",
        "celsius_temperatures = [0, 10, 25, 37, 100]\n",
        "\n",
        "# Use map() to apply the conversion function to each temperature in the list\n",
        "fahrenheit_temperatures = map(celsius_to_fahrenheit, celsius_temperatures)\n",
        "\n",
        "# Convert the map object to a list for printing\n",
        "fahrenheit_list = list(fahrenheit_temperatures)\n",
        "\n",
        "print(f\"Celsius temperatures: {celsius_temperatures}\")\n",
        "print(f\"Fahrenheit temperatures: {fahrenheit_list}\")"
      ],
      "metadata": {
        "colab": {
          "base_uri": "https://localhost:8080/"
        },
        "id": "Opwhe7hzT4-S",
        "outputId": "42b7035a-ac23-45c9-de55-6704ed9efaae"
      },
      "execution_count": 83,
      "outputs": [
        {
          "output_type": "stream",
          "name": "stdout",
          "text": [
            "Celsius temperatures: [0, 10, 25, 37, 100]\n",
            "Fahrenheit temperatures: [32.0, 50.0, 77.0, 98.6, 212.0]\n"
          ]
        }
      ]
    },
    {
      "cell_type": "code",
      "source": [
        "#10. Create a Python program that uses `filter()` to remove all the vowels from a given string.\n",
        "\n",
        "a=list(\"sample\")\n",
        "def vowel(x):\n",
        "    v=('a','e','i','o','u')\n",
        "    return x in v\n",
        "\n",
        "b=list(filter(vowel,a))\n",
        "print(\"Vowels : \",b)\n",
        "print(\"No of Vowels : \",len(b))"
      ],
      "metadata": {
        "colab": {
          "base_uri": "https://localhost:8080/"
        },
        "id": "JBRyCrm3UEtw",
        "outputId": "19d47016-bcd0-4c19-bbee-71c3dea1fab2"
      },
      "execution_count": 84,
      "outputs": [
        {
          "output_type": "stream",
          "name": "stdout",
          "text": [
            "Vowels :  ['a', 'e']\n",
            "No of Vowels :  2\n"
          ]
        }
      ]
    },
    {
      "cell_type": "code",
      "source": [
        "'''11) Imagine an accounting routine used in a book shop. It works on a list with sublists, which look like this:\n",
        "Write a Python program, which returns a list with 2-tuples. Each tuple consists of the order number and the\n",
        "product of the price per item and the quantity. The product should be increased by 10,- € if the value of the\n",
        "order is smaller than 100,00 €.\n",
        "\n",
        "Write a Python program using lambda and map.\n",
        "'''\n",
        "\n",
        "orders = [\n",
        "    [\"34587\", \"Learning Python, Mark Lutz\", 4, 40.95],\n",
        "    [\"98762\", \"Programming Python, Mark Lutz\", 5, 56.80],\n",
        "    [\"77226\", \"Head First Python, Paul Barry\", 3, 32.95],\n",
        "    [\"88112\", \"Python Cookbook, David Beazley\", 3, 24.99]\n",
        "]\n",
        "\n",
        "# The lambda function calculates the total value and applies the 10€ surcharge if needed.\n",
        "# x[0] is the order number, x[2] is the quantity, x[3] is the price per item.\n",
        "calculate_order_value = lambda x: (x[0], x[2] * x[3] + 10 if x[2] * x[3] < 100 else x[2] * x[3])\n",
        "\n",
        "# Use map to apply the lambda function to each order in the list.\n",
        "result = list(map(calculate_order_value, orders))\n",
        "\n",
        "print(result)"
      ],
      "metadata": {
        "colab": {
          "base_uri": "https://localhost:8080/"
        },
        "id": "Rn4gS1XJUaly",
        "outputId": "81f6f557-e59e-45e3-e268-21943cdaf166"
      },
      "execution_count": 85,
      "outputs": [
        {
          "output_type": "stream",
          "name": "stdout",
          "text": [
            "[('34587', 163.8), ('98762', 284.0), ('77226', 108.85000000000001), ('88112', 84.97)]\n"
          ]
        }
      ]
    }
  ]
}